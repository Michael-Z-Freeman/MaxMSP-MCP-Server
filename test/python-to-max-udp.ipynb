{
 "cells": [
  {
   "cell_type": "code",
   "execution_count": 40,
   "id": "0f15841e",
   "metadata": {},
   "outputs": [
    {
     "name": "stdout",
     "output_type": "stream",
     "text": [
      "Collecting python-osc\n",
      "  Using cached python_osc-1.9.3-py3-none-any.whl.metadata (6.4 kB)\n",
      "Using cached python_osc-1.9.3-py3-none-any.whl (43 kB)\n",
      "Installing collected packages: python-osc\n",
      "Successfully installed python-osc-1.9.3\n"
     ]
    }
   ],
   "source": [
    "!pip install python-osc"
   ]
  },
  {
   "cell_type": "code",
   "execution_count": 9,
   "id": "329ae668",
   "metadata": {},
   "outputs": [],
   "source": [
    "import os"
   ]
  },
  {
   "cell_type": "code",
   "execution_count": 38,
   "id": "c3ed2929",
   "metadata": {},
   "outputs": [],
   "source": [
    "# Default OSC configuration - can be overridden at runtime\n",
    "PD_OSC_HOST = os.environ.get(\"PD_OSC_HOST\", \"127.0.0.1\")\n",
    "PD_OSC_PORT = int(os.environ.get(\"PD_OSC_PORT\", \"5000\"))\n",
    "PD_FEEDBACK_PORT = int(os.environ.get(\"PD_FEEDBACK_PORT\", \"5001\"))"
   ]
  },
  {
   "cell_type": "code",
   "execution_count": 41,
   "id": "38007578",
   "metadata": {},
   "outputs": [],
   "source": [
    "import socket\n",
    "import json\n",
    "from pythonosc.udp_client import SimpleUDPClient"
   ]
  },
  {
   "cell_type": "code",
   "execution_count": 50,
   "id": "f10dd9e6",
   "metadata": {},
   "outputs": [],
   "source": [
    "sock = SimpleUDPClient(PD_OSC_HOST, PD_OSC_PORT)"
   ]
  },
  {
   "cell_type": "code",
   "execution_count": 71,
   "id": "3a623293",
   "metadata": {},
   "outputs": [],
   "source": [
    "kwargs = {\"type\": \"cycle~\", \"args\": [640, \"aaa\"], \"position\": [100, 100], \"varname\":\"var-1\"}\n",
    "msg = {\"action\": \"add_object\"}\n",
    "msg.update(kwargs)\n",
    "sock.send_message(\"/mcp\", json.dumps(msg))\n",
    "# sock.sendto(data, (PD_OSC_HOST, PD_OSC_PORT))"
   ]
  },
  {
   "cell_type": "code",
   "execution_count": null,
   "id": "9daa376d",
   "metadata": {},
   "outputs": [],
   "source": []
  }
 ],
 "metadata": {
  "kernelspec": {
   "display_name": "mcp",
   "language": "python",
   "name": "python3"
  },
  "language_info": {
   "codemirror_mode": {
    "name": "ipython",
    "version": 3
   },
   "file_extension": ".py",
   "mimetype": "text/x-python",
   "name": "python",
   "nbconvert_exporter": "python",
   "pygments_lexer": "ipython3",
   "version": "3.12.10"
  }
 },
 "nbformat": 4,
 "nbformat_minor": 5
}
